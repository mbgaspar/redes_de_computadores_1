{
  "nbformat": 4,
  "nbformat_minor": 0,
  "metadata": {
    "colab": {
      "name": "lista02enlace.ipynb",
      "provenance": [],
      "authorship_tag": "ABX9TyP1LIDWnzdCsKzw/3yAEBga",
      "include_colab_link": true
    },
    "kernelspec": {
      "name": "python3",
      "display_name": "Python 3"
    },
    "language_info": {
      "name": "python"
    }
  },
  "cells": [
    {
      "cell_type": "markdown",
      "metadata": {
        "id": "view-in-github",
        "colab_type": "text"
      },
      "source": [
        "<a href=\"https://colab.research.google.com/github/mbgaspar/redes_de_computadores_1/blob/main/lista02enlace.ipynb\" target=\"_parent\"><img src=\"https://colab.research.google.com/assets/colab-badge.svg\" alt=\"Open In Colab\"/></a>"
      ]
    },
    {
      "cell_type": "markdown",
      "metadata": {
        "id": "dJv3Bil8aO6W"
      },
      "source": [
        "###lista02enlace"
      ]
    },
    {
      "cell_type": "markdown",
      "metadata": {
        "id": "4Iq4GwOjY3il"
      },
      "source": [
        "Escreva um pseudocódigo que calcule as verificações de erro de Checksum – 16bits  e CRC-8bits, tanto pela perspectiva do transmissor quanto do receptor"
      ]
    },
    {
      "cell_type": "markdown",
      "metadata": {
        "id": "2JP_Zxh8Zm_e"
      },
      "source": [
        "##Emisor\n",
        "\n",
        "\n",
        "1.   trata conteúdo do segmento como sequência de inteiros de 16 bits (ou 8bits)\n",
        "2.   soma de verificação: adição (soma no complemento de 1) do conteúdo do segmento\n",
        "3. emissor colocar valor da soma de verificação no campo \n",
        "\n",
        "\n",
        "\n"
      ]
    },
    {
      "cell_type": "markdown",
      "metadata": {
        "id": "_V90z3U0sxhw"
      },
      "source": [
        "##Receptor:\n",
        "\n",
        "\n",
        "1.   calcula soma de verificação do segmento recebido\n",
        "2.   calcula soma de verificação do segmento recebido - Sim ou Não\n",
        "\n"
      ]
    },
    {
      "cell_type": "code",
      "metadata": {
        "id": "Wt0UejEwGYq-"
      },
      "source": [
        "# Function to find the Checksum of Sent Message\n",
        "def findChecksum(SentMessage, k):\n",
        "\n",
        "\t# Dividing sent message in packets of k bits.\n",
        "\tc1 = SentMessage[0:k]\n",
        "\tc2 = SentMessage[k:2*k]\n",
        "\tc3 = SentMessage[2*k:3*k]\n",
        "\tc4 = SentMessage[3*k:4*k]\n",
        "\n",
        "\t# Calculating the binary sum of packets\n",
        "\tSum = bin(int(c1, 2)+int(c2, 2)+int(c3, 2)+int(c4, 2))[2:]\n",
        "\n",
        "\t# Adding the overflow bits\n",
        "\tif(len(Sum) > k):\n",
        "\t\tx = len(Sum)-k\n",
        "\t\tSum = bin(int(Sum[0:x], 2)+int(Sum[x:], 2))[2:]\n",
        "\tif(len(Sum) < k):\n",
        "\t\tSum = '0'*(k-len(Sum))+Sum\n",
        "\n",
        "\t# Calculating the complement of sum\n",
        "\tChecksum = ''\n",
        "\tfor i in Sum:\n",
        "\t\tif(i == '1'):\n",
        "\t\t\tChecksum += '0'\n",
        "\t\telse:\n",
        "\t\t\tChecksum += '1'\n",
        "\treturn Checksum\n",
        "\n",
        "# Function to find the Complement of binary addition of\n",
        "# k bit packets of the Received Message + Checksum\n",
        "def checkReceiverChecksum(ReceivedMessage, k, Checksum):\n",
        "\n",
        "\t# Dividing sent message in packets of k bits.\n",
        "\tc1 = ReceivedMessage[0:k]\n",
        "\tc2 = ReceivedMessage[k:2*k]\n",
        "\tc3 = ReceivedMessage[2*k:3*k]\n",
        "\tc4 = ReceivedMessage[3*k:4*k]\n",
        "\n",
        "\t# Calculating the binary sum of packets + checksum\n",
        "\tReceiverSum = bin(int(c1, 2)+int(c2, 2)+int(Checksum, 2) +\n",
        "\t\t\t\t\tint(c3, 2)+int(c4, 2)+int(Checksum, 2))[2:]\n",
        "\n",
        "\t# Adding the overflow bits\n",
        "\tif(len(ReceiverSum) > k):\n",
        "\t\tx = len(ReceiverSum)-k\n",
        "\t\tReceiverSum = bin(int(ReceiverSum[0:x], 2)+int(ReceiverSum[x:], 2))[2:]\n",
        "\n",
        "\t# Calculating the complement of sum\n",
        "\tReceiverChecksum = ''\n",
        "\tfor i in ReceiverSum:\n",
        "\t\tif(i == '1'):\n",
        "\t\t\tReceiverChecksum += '0'\n",
        "\t\telse:\n",
        "\t\t\tReceiverChecksum += '1'\n",
        "\treturn ReceiverChecksum\n",
        "\n",
        "\n",
        "\n",
        "\n",
        "\n"
      ],
      "execution_count": 1,
      "outputs": []
    },
    {
      "cell_type": "code",
      "metadata": {
        "colab": {
          "base_uri": "https://localhost:8080/"
        },
        "id": "u1WvCe-TviVQ",
        "outputId": "33012e9b-47d9-4d3c-c698-deb4116247a2"
      },
      "source": [
        "# Driver Code verificações de erro de Checksum – 8bits\n",
        "SentMessage = \"10010101011000111001010011101100\"\n",
        "k = 8\n",
        "ReceivedMessage = \"10000101011000111001010011101101\"\n",
        " \n",
        "# Calling the findChecksum() function\n",
        "Checksum = findChecksum(SentMessage, k)\n",
        " \n",
        "# Calling thr checkReceiverChecksum() function\n",
        "ReceiverChecksum = checkReceiverChecksum(ReceivedMessage, k, Checksum)\n",
        " \n",
        "# Printing Checksum\n",
        "print(\"SENDER SIDE CHECKSUM: \", Checksum)\n",
        "print(\"RECEIVER SIDE CHECKSUM: \", ReceiverChecksum)\n",
        " \n",
        "# If sum = 0, No error is detected\n",
        "if(int(ReceiverChecksum, 2) == 0):\n",
        "    print(\"Receiver Checksum is equal to 0. Therefore,\")\n",
        "    print(\"STATUS: ACCEPTED\")\n",
        "     \n",
        "# Otherwise, Error is detected\n",
        "else:\n",
        "    print(\"Receiver Checksum is not equal to 0. Therefore,\")\n",
        "    print(\"STATUS: ERROR DETECTED\")"
      ],
      "execution_count": 6,
      "outputs": [
        {
          "output_type": "stream",
          "name": "stdout",
          "text": [
            "SENDER SIDE CHECKSUM:  10000101\n",
            "RECEIVER SIDE CHECKSUM:  0001001\n",
            "Receiver Checksum is not equal to 0. Therefore,\n",
            "STATUS: ERROR DETECTED\n"
          ]
        }
      ]
    },
    {
      "cell_type": "code",
      "metadata": {
        "colab": {
          "base_uri": "https://localhost:8080/"
        },
        "id": "DdA96GdsxaVP",
        "outputId": "94bc33ed-f88c-41f1-af86-529de261b624"
      },
      "source": [
        "# Driver Code verificações de erro de Checksum – 16bits\n",
        "SentMessage = \"1001010101100011100101001110110010010101011000111001010011101100\"\n",
        "k = 16\n",
        "ReceivedMessage = \"1000010101100011100101001110110110000101011000111001010011101101\"\n",
        " \n",
        "# Calling the findChecksum() function\n",
        "Checksum = findChecksum(SentMessage, k)\n",
        " \n",
        "# Calling thr checkReceiverChecksum() function\n",
        "ReceiverChecksum = checkReceiverChecksum(ReceivedMessage, k, Checksum)\n",
        " \n",
        "# Printing Checksum\n",
        "print(\"SENDER SIDE CHECKSUM: \", Checksum)\n",
        "print(\"RECEIVER SIDE CHECKSUM: \", ReceiverChecksum)\n",
        " \n",
        "# If sum = 0, No error is detected\n",
        "if(int(ReceiverChecksum, 2) == 0):\n",
        "    print(\"Receiver Checksum is equal to 0. Therefore,\")\n",
        "    print(\"STATUS: ACCEPTED\")\n",
        "     \n",
        "# Otherwise, Error is detected\n",
        "else:\n",
        "    print(\"Receiver Checksum is not equal to 0. Therefore,\")\n",
        "    print(\"STATUS: ERROR DETECTED\")"
      ],
      "execution_count": 7,
      "outputs": [
        {
          "output_type": "stream",
          "name": "stdout",
          "text": [
            "SENDER SIDE CHECKSUM:  1010101101011111\n",
            "RECEIVER SIDE CHECKSUM:  0111010010011110\n",
            "Receiver Checksum is not equal to 0. Therefore,\n",
            "STATUS: ERROR DETECTED\n"
          ]
        }
      ]
    }
  ]
}